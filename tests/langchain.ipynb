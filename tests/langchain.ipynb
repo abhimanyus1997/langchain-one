{
 "cells": [
  {
   "cell_type": "markdown",
   "metadata": {},
   "source": [
    "# Langchain Starter Template"
   ]
  },
  {
   "cell_type": "code",
   "execution_count": 1,
   "metadata": {},
   "outputs": [],
   "source": [
    "# %pip install langchain ctransformers"
   ]
  },
  {
   "cell_type": "markdown",
   "metadata": {},
   "source": [
    "## Imports"
   ]
  },
  {
   "cell_type": "code",
   "execution_count": 2,
   "metadata": {},
   "outputs": [],
   "source": [
    "import os\n",
    "from pathlib import Path\n",
    "\n",
    "# Langchain Imports\n",
    "from langchain.llms import CTransformers\n",
    "from langchain.prompts import PromptTemplate"
   ]
  },
  {
   "cell_type": "markdown",
   "metadata": {},
   "source": [
    "## Parameters"
   ]
  },
  {
   "cell_type": "code",
   "execution_count": 3,
   "metadata": {},
   "outputs": [],
   "source": [
    "MODEL_PATH = \"..\\models\\openhermes-2.5-mistral-7b.Q4_K_S_2.gguf\"\n",
    "MODEL_TYPE = \"mistral\"\n",
    "CTRANS_LIB = \"avx2\"\n",
    "\n",
    "MAX_TOKENS_IP = 1024\n",
    "TEMPERATURE = 0.5\n",
    "TOP_K = 50\n",
    "TOP_P = 0.9\n",
    "REPEAT_PENALTY = 1.1"
   ]
  },
  {
   "cell_type": "markdown",
   "metadata": {},
   "source": [
    "### Config for LLM"
   ]
  },
  {
   "cell_type": "code",
   "execution_count": 4,
   "metadata": {},
   "outputs": [],
   "source": [
    "config = {\n",
    "    \"max_new_tokens\": MAX_TOKENS_IP, # reducing the probability of generating the same token again\n",
    "    \"repetition_penalty\": REPEAT_PENALTY,\n",
    "    \"temperature\": TEMPERATURE,  # randomness\n",
    "    \"top_k\": TOP_K,    # selecting top recommendations\n",
    "    \"top_p\": TOP_P,   # nucleus sampling\n",
    "    \"stream\": True,  # continuous streaming of data\n",
    "    \"threads\": int(os.cpu_count() / 2)  # parallel processing\n",
    "}"
   ]
  },
  {
   "cell_type": "markdown",
   "metadata": {},
   "source": [
    "### ctransformer to load LLM"
   ]
  },
  {
   "cell_type": "code",
   "execution_count": 5,
   "metadata": {},
   "outputs": [],
   "source": [
    "llm = CTransformers(\n",
    "    model=Path(MODEL_PATH).as_posix(),\n",
    "    # model_file=\"openhermes-2.5-mistral-7b.Q4_K_S.gguf\",\n",
    "    model_type=MODEL_TYPE,\n",
    "    lib= CTRANS_LIB,\n",
    "    # callbacks=[StreamingStdOutCallbackHandler()], # Not supported by Ctrasnformers\n",
    "    ** config,\n",
    "    streaming=True,\n",
    "    verbose=True,\n",
    ")"
   ]
  },
  {
   "cell_type": "markdown",
   "metadata": {},
   "source": [
    "## Prompt Generation"
   ]
  },
  {
   "cell_type": "code",
   "execution_count": 6,
   "metadata": {},
   "outputs": [],
   "source": [
    "template = \"\"\"\n",
    "You are an expert data scientist with an expertise in building deep learning models.\n",
    "Explain the concept of {concept} in a couple of lines\n",
    "\"\"\"\n",
    "\n",
    "prompt = PromptTemplate(\n",
    "    input_variables=[\"concept\"],\n",
    "    template=template,\n",
    ")"
   ]
  },
  {
   "cell_type": "markdown",
   "metadata": {},
   "source": [
    "### Running LLM using prompt"
   ]
  },
  {
   "cell_type": "code",
   "execution_count": 7,
   "metadata": {},
   "outputs": [],
   "source": [
    "llm(prompt.format(concept=\"LDA\"))"
   ]
  },
  {
   "cell_type": "code",
   "execution_count": null,
   "metadata": {},
   "outputs": [],
   "source": [
    "llm(prompt.format(concept=\"XGboost\"))"
   ]
  },
  {
   "cell_type": "code",
   "execution_count": null,
   "metadata": {},
   "outputs": [],
   "source": []
  }
 ],
 "metadata": {
  "kernelspec": {
   "display_name": "Python 3",
   "language": "python",
   "name": "python3"
  },
  "language_info": {
   "codemirror_mode": {
    "name": "ipython",
    "version": 3
   },
   "file_extension": ".py",
   "mimetype": "text/x-python",
   "name": "python",
   "nbconvert_exporter": "python",
   "pygments_lexer": "ipython3",
   "version": "3.11.6"
  }
 },
 "nbformat": 4,
 "nbformat_minor": 2
}
